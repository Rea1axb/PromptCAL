{
 "cells": [
  {
   "cell_type": "code",
   "execution_count": 1,
   "metadata": {},
   "outputs": [],
   "source": [
    "import torch\n",
    "import numpy as np\n",
    "from scipy.optimize import linear_sum_assignment as linear_assignment"
   ]
  },
  {
   "cell_type": "code",
   "execution_count": 2,
   "metadata": {},
   "outputs": [
    {
     "name": "stdout",
     "output_type": "stream",
     "text": [
      "[49 33 55 ... 51 42 70]\n",
      "[49. 33. 72. ... 51. 42. 70.]\n"
     ]
    }
   ],
   "source": [
    "fine_preds = torch.load('./preds_result/cifar100_5.pt')['preds']\n",
    "targets = torch.load('./preds_result/cifar100_5.pt')['targets']\n",
    "print(fine_preds)\n",
    "print(targets)"
   ]
  },
  {
   "cell_type": "code",
   "execution_count": 3,
   "metadata": {},
   "outputs": [
    {
     "data": {
      "text/plain": [
       "array([ True,  True,  True, ...,  True,  True,  True])"
      ]
     },
     "execution_count": 3,
     "metadata": {},
     "output_type": "execute_result"
    }
   ],
   "source": [
    "train_classes = range(80)\n",
    "cls_mask = np.array([True if x in range(len(train_classes))\n",
    "                                         else False for x in targets])\n",
    "cls_mask"
   ]
  },
  {
   "cell_type": "code",
   "execution_count": 4,
   "metadata": {},
   "outputs": [],
   "source": [
    "def get_cifar100_coarse_labels(fine_labels):\n",
    "    coarse_labels = np.array([ 4,  1, 14,  8,  0,  6,  7,  7, 18,  3,\n",
    "                                    3, 14,  9, 18,  7, 11,  3,  9,  7, 11,\n",
    "                                    6, 11,  5, 10,  7,  6, 13, 15,  3, 15, \n",
    "                                    0, 11,  1, 10, 12, 14, 16,  9, 11,  5,\n",
    "                                    5, 19,  8,  8, 15, 13, 14, 17, 18, 10,\n",
    "                                    16, 4, 17,  4,  2,  0, 17,  4, 18, 17,\n",
    "                                    10, 3,  2, 12, 12, 16, 12,  1,  9, 19, \n",
    "                                    2, 10,  0,  1, 16, 12,  9, 13, 15, 13,\n",
    "                                    16, 19,  2,  4,  6, 19,  5,  5,  8, 19,\n",
    "                                    18,  1,  2, 15,  6,  0, 17,  8, 14, 13])\n",
    "    return coarse_labels[fine_labels]\n",
    "\n",
    "def split_cluster_acc_v2(y_true, y_pred, mask):\n",
    "    \"\"\"\n",
    "    Calculate clustering accuracy. Require scikit-learn installed\n",
    "    First compute linear assignment on all data, then look at how good the accuracy is on subsets\n",
    "\n",
    "    # Arguments\n",
    "        mask: Which instances come from old classes (True) and which ones come from new classes (False)\n",
    "        y: true labels, numpy.array with shape `(n_samples,)`\n",
    "        y_pred: predicted labels, numpy.array with shape `(n_samples,)`\n",
    "\n",
    "    # Return\n",
    "        accuracy, in [0,1]\n",
    "    \"\"\"\n",
    "    y_true = y_true.astype(int)\n",
    "\n",
    "    old_classes_gt = set(y_true[mask])\n",
    "    new_classes_gt = set(y_true[~mask])\n",
    "\n",
    "    assert y_pred.size == y_true.size\n",
    "    D = max(y_pred.max(), y_true.max()) + 1\n",
    "    w = np.zeros((D, D), dtype=int)\n",
    "    for i in range(y_pred.size):\n",
    "        w[y_pred[i], y_true[i]] += 1\n",
    "\n",
    "    ind = linear_assignment(w.max() - w)\n",
    "    ind = np.vstack(ind).T\n",
    "\n",
    "    ind_map = {j: i for i, j in ind}\n",
    "    total_acc = sum([w[i, j] for i, j in ind]) * 1.0 / y_pred.size\n",
    "\n",
    "    old_acc = 0\n",
    "    total_old_instances = 0\n",
    "    for i in old_classes_gt:\n",
    "        old_acc += w[ind_map[i], i]\n",
    "        total_old_instances += sum(w[:, i])\n",
    "    old_acc /= total_old_instances\n",
    "\n",
    "    new_acc = 0\n",
    "    total_new_instances = 0\n",
    "    for i in new_classes_gt:\n",
    "        new_acc += w[ind_map[i], i]\n",
    "        total_new_instances += sum(w[:, i])\n",
    "    new_acc /= total_new_instances\n",
    "\n",
    "    return total_acc, old_acc, new_acc, ind"
   ]
  },
  {
   "cell_type": "code",
   "execution_count": 5,
   "metadata": {},
   "outputs": [
    {
     "name": "stdout",
     "output_type": "stream",
     "text": [
      "0.8231 0.854 0.6995\n",
      "[[ 0  0]\n",
      " [ 1  1]\n",
      " [ 2  2]\n",
      " [ 3  3]\n",
      " [ 4  4]\n",
      " [ 5  5]\n",
      " [ 6  6]\n",
      " [ 7  7]\n",
      " [ 8  8]\n",
      " [ 9  9]\n",
      " [10 10]\n",
      " [11 11]\n",
      " [12 12]\n",
      " [13 13]\n",
      " [14 14]\n",
      " [15 15]\n",
      " [16 16]\n",
      " [17 17]\n",
      " [18 18]\n",
      " [19 19]\n",
      " [20 20]\n",
      " [21 21]\n",
      " [22 22]\n",
      " [23 23]\n",
      " [24 24]\n",
      " [25 25]\n",
      " [26 26]\n",
      " [27 27]\n",
      " [28 28]\n",
      " [29 29]\n",
      " [30 95]\n",
      " [31 31]\n",
      " [32 32]\n",
      " [33 33]\n",
      " [34 34]\n",
      " [35 35]\n",
      " [36 36]\n",
      " [37 37]\n",
      " [38 38]\n",
      " [39 39]\n",
      " [40 40]\n",
      " [41 41]\n",
      " [42 42]\n",
      " [43 43]\n",
      " [44 44]\n",
      " [45 45]\n",
      " [46 46]\n",
      " [47 47]\n",
      " [48 48]\n",
      " [49 49]\n",
      " [50 50]\n",
      " [51 51]\n",
      " [52 52]\n",
      " [53 53]\n",
      " [54 54]\n",
      " [55 55]\n",
      " [56 56]\n",
      " [57 57]\n",
      " [58 58]\n",
      " [59 59]\n",
      " [60 60]\n",
      " [61 61]\n",
      " [62 62]\n",
      " [63 63]\n",
      " [64 64]\n",
      " [65 65]\n",
      " [66 66]\n",
      " [67 67]\n",
      " [68 68]\n",
      " [69 69]\n",
      " [70 70]\n",
      " [71 71]\n",
      " [72 72]\n",
      " [73 73]\n",
      " [74 74]\n",
      " [75 75]\n",
      " [76 76]\n",
      " [77 77]\n",
      " [78 78]\n",
      " [79 79]\n",
      " [80 89]\n",
      " [81 85]\n",
      " [82 82]\n",
      " [83 92]\n",
      " [84 30]\n",
      " [85 93]\n",
      " [86 88]\n",
      " [87 87]\n",
      " [88 90]\n",
      " [89 86]\n",
      " [90 97]\n",
      " [91 80]\n",
      " [92 96]\n",
      " [93 98]\n",
      " [94 81]\n",
      " [95 91]\n",
      " [96 94]\n",
      " [97 83]\n",
      " [98 99]\n",
      " [99 84]]\n"
     ]
    }
   ],
   "source": [
    "total_acc, old_acc, new_acc, ind = split_cluster_acc_v2(targets, fine_preds, cls_mask)\n",
    "print(total_acc, old_acc, new_acc)\n",
    "print(ind)"
   ]
  },
  {
   "cell_type": "code",
   "execution_count": 6,
   "metadata": {},
   "outputs": [
    {
     "data": {
      "text/plain": [
       "0.9091"
      ]
     },
     "execution_count": 6,
     "metadata": {},
     "output_type": "execute_result"
    }
   ],
   "source": [
    "ind_target2coarse_map = {i:get_cifar100_coarse_labels(j) for i, j in ind}\n",
    "target2coarse_preds = np.vectorize(ind_target2coarse_map.get)(fine_preds)\n",
    "coarse_targets = get_cifar100_coarse_labels(targets.astype(np.int64))\n",
    "acc = (target2coarse_preds == coarse_targets).mean()\n",
    "acc"
   ]
  },
  {
   "cell_type": "code",
   "execution_count": 7,
   "metadata": {},
   "outputs": [
    {
     "data": {
      "text/plain": [
       "array([10, 10,  0, ...,  4,  8,  2])"
      ]
     },
     "execution_count": 7,
     "metadata": {},
     "output_type": "execute_result"
    }
   ],
   "source": [
    "target2coarse_preds"
   ]
  },
  {
   "cell_type": "code",
   "execution_count": null,
   "metadata": {},
   "outputs": [],
   "source": []
  }
 ],
 "metadata": {
  "kernelspec": {
   "display_name": "GCD",
   "language": "python",
   "name": "python3"
  },
  "language_info": {
   "codemirror_mode": {
    "name": "ipython",
    "version": 3
   },
   "file_extension": ".py",
   "mimetype": "text/x-python",
   "name": "python",
   "nbconvert_exporter": "python",
   "pygments_lexer": "ipython3",
   "version": "3.9.12"
  }
 },
 "nbformat": 4,
 "nbformat_minor": 2
}
